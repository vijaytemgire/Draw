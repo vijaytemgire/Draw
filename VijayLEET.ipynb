{
  "nbformat": 4,
  "nbformat_minor": 0,
  "metadata": {
    "colab": {
      "provenance": [],
      "authorship_tag": "ABX9TyNzLSw5DV62zvatr9m7bX+4",
      "include_colab_link": true
    },
    "kernelspec": {
      "name": "python3",
      "display_name": "Python 3"
    },
    "language_info": {
      "name": "python"
    }
  },
  "cells": [
    {
      "cell_type": "markdown",
      "metadata": {
        "id": "view-in-github",
        "colab_type": "text"
      },
      "source": [
        "<a href=\"https://colab.research.google.com/github/vijaytemgire/Draw/blob/main/VijayLEET.ipynb\" target=\"_parent\"><img src=\"https://colab.research.google.com/assets/colab-badge.svg\" alt=\"Open In Colab\"/></a>"
      ]
    },
    {
      "cell_type": "code",
      "execution_count": 1,
      "metadata": {
        "id": "_5kZ3lMwTbzG",
        "colab": {
          "base_uri": "https://localhost:8080/"
        },
        "outputId": "ae52f9ef-0673-49f7-f93d-476fe02542de"
      },
      "outputs": [
        {
          "output_type": "stream",
          "name": "stdout",
          "text": [
            "['0', '01', '1', '10', '101']\n"
          ]
        }
      ],
      "source": [
        "def generate_substrings(s):\n",
        "    substrings = set()  # Use a set to avoid duplicates\n",
        "    for i in range(len(s)):\n",
        "        for j in range(i + 1, len(s) + 1):\n",
        "            substrings.add(s[i:j])\n",
        "    return sorted(substrings)\n",
        "\n",
        "binary_string = \"101\"\n",
        "result = generate_substrings(binary_string)\n",
        "print(result)\n"
      ]
    }
  ]
}